{
 "cells": [
  {
   "cell_type": "markdown",
   "metadata": {},
   "source": [
    "# GTA HS20 - Übung 10: Density-based Clustering zur ortsbezogenen Analyse von GPS Trajektorien\n",
    "\n",
    "## Ziel der Übung\n",
    "Das Ziel dieser Übung ist die Entwicklung / Anpassung eines Python Skripts, das es Ihnen erlaubt Haltepunkte aus Taxitrajektorien, die in Rom aufgezeichnet wurden, zu extrahieren. \n",
    "Dazu sollen sie den DBSCAN (Density-based clustering) Algorithmus von Ester, Kriegel, Sander und Xu (siehe Vorlesung) benutzen, um Bewegungsmuster in den GPS Punkten durch deren Dichte in Raum und Zeit zu clustern.\n",
    "\n",
    "## Zum GPS Trajektorien Datensatz\n",
    "Die Daten stammen aus einem öffentlich verfügbaren Datensatz bei dem 320 Taxis mit GPS Empfängern ausgestattet wurden und über einen Zeitraum von 30 Tagen getrackt wurden. \n",
    "Beim Tracking wird durchschnittlich 1 GPS Punkt alle 7 Sekunden erzeugt.\n",
    "Dieser Datensatz wurde ursprünglich zur Verbesserung der Seuchenprävention verwendet, wir werden ihn heute verwenden um die Haltepunkte der Taxis automatisch zu identifizieren.\n",
    "\n",
    "## Vorgehen\n",
    "\n",
    "### 1) Vorüberlegung: Wie kann DBSCAN Haltepunkte erkennen\n",
    "Rufen Sie sich ihr Wissen zu DBSCAN aus der Vorlesung in Erinnerung, überlegen Sie sich wie Sie einen Haltepunkt für Taxis definieren können und welche raumzeitlichen Anforderungen er erfüllen muss. \n",
    "\n",
    "Überlegen Sie sich Antworten auf folgende Fragen:\n",
    "\n",
    "- Wie könnte ein sinnvoller Haltepunkt für Taxis definiert sein?\n",
    "- Wie können Sie diese raumzeitlichen Anforderungen mit DBSCAN erfüllen?\n",
    "- Wie beeinflussen die raumzeitlichen Anforderungen die Parameter von DBSCAN (min samples, eps, distance metric)?\n",
    "- Was könnten gute Parameter sein?\n",
    "\n",
    "Diskutieren Sie Ihre Antworten mit Ihrem Nachbarn/ Ihrer Nachbarin und notieren Sie\n",
    "mögliche Lösungen.\n",
    "\n",
    "### 2) Übersicht über Funktionen und das Programm bekommen\n",
    "Hier eine kurze Übersicht über die Funktionen die in der `main` Funktion aufgerufen werden. Die Methoden `transform()` und `clustering_with_dbscan()` müssen verändert werden.\n",
    "- `read_data()`: Die Daten werden aus der `.csv`-Datei in eine Liste `[X, Y, T]` (xkoordinate, y-koordinate, Zeitstempel) eingelesen.\n",
    "- `transform()`: Reprojeziert die Daten.\n",
    "- `plot_nb_dists()`: Erstellt das n-nearest-neighbours Diagramm.\n",
    "- `clustering_with_dbscan()`: Berechnet die Cluster mit DBSCAN.\n",
    "- `plot_cluster()`: Erstellt eine Grafik um Ihnen schnell das Ergebnis zu zeigen.\n",
    "- `export_to_shp()`: Exportiert die GPS Punkte mit Ihrer Clusternummer als Shapefile."
   ]
  },
  {
   "cell_type": "markdown",
   "metadata": {},
   "source": [
    "Wir beginnen zuerst mit dem Importieren einiger Bibliotheken und dem Setzen einiger Optionen."
   ]
  },
  {
   "cell_type": "code",
   "execution_count": null,
   "metadata": {},
   "outputs": [],
   "source": [
    "import datetime\n",
    "import pyproj\n",
    "import numpy as np\n",
    "from sklearn.cluster import DBSCAN\n",
    "\n",
    "from spatial_data_mining_functions import read_data, plot_nb_dists, plot_cluster, export_to_shp"
   ]
  },
  {
   "cell_type": "code",
   "execution_count": null,
   "metadata": {},
   "outputs": [],
   "source": [
    "# Path to geodatabase\n",
    "input_file = r\"input_data/taxi_21.txt\"\n",
    "\n",
    "# Source projection\n",
    "proj_wgs84 = \"EPSG:4326\"\n",
    "\n",
    "# Target protection\n",
    "proj_target = \"EPSG:25833\""
   ]
  },
  {
   "cell_type": "markdown",
   "metadata": {},
   "source": [
    "### 3) Einlesen und Transformieren der Daten\n",
    "\n",
    "#### Ziel: Verändern Sie die Funktion transform(), sodass die Koordinaten in ein geeignetes metrisches System projiziert werden und der Zeitstempel in kontinuierliche und interpretierbare Zeitwerte umgewandelt wird.\n",
    "\n",
    "Die Funktion `transform()` ist noch unvollständig. \n",
    "Sie müssen die Funktion in einer Weise implementieren, so dass die Koordinaten in interpretierbaren räumlichen Distanzen vorliegen (z.B. Meter), und die Zeitwerte kontinuierliche und interpretierbare Zeitwerte (z.B. Sekunden) sind. \n",
    "Beides brauchen Sie zur Festlegung des Distanzparameters im Clustering.\n",
    "Hinweis: Wenn zwei `datetime.datetime` Objekte subtrahiert werden, wird ein `datetime.timedelta` Objekt zurückgegeben, kein kontinuierlicher Wert.\n",
    "\n",
    "Mittels der Bibliothek `pyproj` können sie lon / lat Koordinaten in eine andere Projektion transformieren. Benutzen Sie dazu den `Transformer` (https://pyproj4.github.io/pyproj/stable/examples.html#step-2-create-transformer-to-convert-from-crs-to-crs). Setzen Sie die Option `always_xy=True`, da ansonsten die Koordinaten \"umgedreht\" sind."
   ]
  },
  {
   "cell_type": "code",
   "execution_count": null,
   "metadata": {},
   "outputs": [],
   "source": [
    "def transform(data_in):\n",
    "    \"\"\"Function that transforms data to metric coordinate system and continuous timestamps.\"\"\"\n",
    "    data_out = []\n",
    "    t_reference = datetime.datetime(2014, 1, 1)\n",
    "    \n",
    "    # TODO Initialize transformer accordingly.\n",
    "    transformer = pyproj.Transformer()\n",
    "    \n",
    "    # Iterate over every point in the input data.\n",
    "    for d in data_in:\n",
    "        x = d[0]\n",
    "        y = d[1]\n",
    "        ts = d[2]\n",
    "        \n",
    "        # TODO Replace this with according transformations.\n",
    "        x, y = 0, 0\n",
    "        ts = 0\n",
    "        \n",
    "        data_out.append([x, y, ts])\n",
    "    return data_out"
   ]
  },
  {
   "cell_type": "markdown",
   "metadata": {},
   "source": [
    "### 4) Implementierung von DBSCAN\n",
    "\n",
    "#### Ziel: Verändern Sie die Funktion `clustering_with_dbscan()`, sodass sie die Cluster Labels und die Indizies der Core Samples berechnet und ausgibt.\n",
    "\n",
    "- Importieren Sie den DBSCAN Algorithmus aus Scikit-learn.\n",
    "- Initialisieren Sie ein DBSCAN Objekt (Übergeben Sie dabei die Input Daten).\n",
    "- Nutzen Sie die `fit()` Methode des DBSCAN Objekts um ein Clustering zu berechnen.\n",
    "- Weisen Sie das Ergebnis des Clusterings den Variablen `labels` und `core_samples_indices` zu.\n",
    "\n",
    "Hilfestellungen:\n",
    "\n",
    "- Offizielle Dokumentation: https://scikit-learn.org/stable/modules/generated/sklearn.cluster.DBSCAN.html\n",
    "- Beispiel: https://scikit-learn.org/stable/auto_examples/cluster/plot_dbscan.html#sphx-glr-autoexamples-cluster-plot-dbscan-py"
   ]
  },
  {
   "cell_type": "code",
   "execution_count": null,
   "metadata": {},
   "outputs": [],
   "source": [
    "def clustering_with_dbscan(X, eps=15, min_samples=5, metric='cityblock'):\n",
    "    \"\"\" Function derived from scipy dbscan example\n",
    "    http://scikit-learn.org/stable/auto_examples/cluster/plot_dbscan.html#example-cluster-plot-dbscan-py.\"\"\"\n",
    "\n",
    "    X = np.array(data)\n",
    "\n",
    "    # TODO: Compute DBSCAN\n",
    "    db = DBSCAN()\n",
    "    \n",
    "    # TODO: Assign proper labels and core_sample_indices to labels.\n",
    "    labels = np.random.randint(0, 5, size=len(data))\n",
    "    core_samples_indices = [1,]\n",
    "    \n",
    "    # Number of clusters in labels, ignoring noise if present.\n",
    "    n_clusters_ = len(set(labels)) - (1 if -1 in labels else 0)\n",
    "    print('Estimated number of clusters: %d' % n_clusters_)\n",
    "    return labels, core_samples_indices"
   ]
  },
  {
   "cell_type": "code",
   "execution_count": null,
   "metadata": {
    "scrolled": false
   },
   "outputs": [],
   "source": [
    "# Read data, limit number of rows for speed.\n",
    "org_data = read_data(input_file, nrows=2000)\n",
    "\n",
    "# Apply transformations.\n",
    "data = transform(org_data)\n",
    "\n",
    "# Plot nearest neighbor distances diagram.\n",
    "metric = 'euclidean'\n",
    "data = np.array(data)\n",
    "plot_nb_dists(data, nearest_neighbor=[7, 10, 15], metric=metric, ylim=250)\n",
    "\n",
    "# Calculate clusters with dbscan.\n",
    "eps = 1\n",
    "min_samples = 1\n",
    "labels, core_samples_indices = clustering_with_dbscan(data, eps=eps, min_samples=min_samples, metric=metric)\n",
    "\n",
    "# Plot clusters.\n",
    "plot_cluster(data, labels, core_samples_indices, proj_wgs84=proj_wgs84, proj_target=proj_target, linestyle='solid')\n",
    "\n",
    "# Export clusters to geodatabase.\n",
    "export_layer_name = \"stops\"\n",
    "export_to_shp(data, labels, export_layer_name, crs=proj_target.srs)"
   ]
  },
  {
   "cell_type": "markdown",
   "metadata": {},
   "source": [
    "### 5) Wahl der Parameter\n",
    "\n",
    "Der Code und das Clustering sind jetzt voll Funktionsfähig. \n",
    "Das Ergebnis hängt allerdings stark von den gewählten Parametern ab. \n",
    "Ziel ist nun, die Parameter so anzupassen dass plausible Cluster generiert werden. \n",
    "Nähere Informationen finden sie auf dem Angabenblatt.\n",
    "    \n",
    "### 6) Ergebnisse Visualisieren und Parameter Tunen\n",
    "\n",
    "Passen sie die Parameter der `clustering_with_dbscan()` Funktion (`eps`, `min_samples`, `metric`) an und führen Sie sie aus.\n",
    "Plotten sie die gefunden Cluster mit der Funktion `plot_cluster()`.\n",
    "Schauen sie sich den Konsolen output und die Cluster im Plot an. \n",
    "Das Ergebnis der Methode sind die Clusterlabels für jeden Punkt des Trajektoriendatensatzes. \n",
    "Wie liest man aus dem Clusteringergebnis Clusterlabels und Core Points? \n",
    "Lassen sie sich das Ergebnis in der Konsole ausgeben und schauen Sie sich die Cluster Labels an. \n",
    "Ein Label von `-1` bedeutet \"Noise\".\n",
    "    \n",
    "### 7) Ergebnis exportieren und auf Karte visualisieren\n",
    "\n",
    "Exportieren sie die gefunden Cluster mittels `export_to_shp()` als Shapefile. \n",
    "Sehen Sie sich das Clusterergebnis als einen Layer in ArcGIS / QGIS mit der Hintergrundkarte an (färben\n",
    "Sie die Punkte nach Clusterzugehörigkeit ein)."
   ]
  }
 ],
 "metadata": {
  "kernelspec": {
   "display_name": "Python 3",
   "language": "python",
   "name": "python3"
  },
  "language_info": {
   "codemirror_mode": {
    "name": "ipython",
    "version": 3
   },
   "file_extension": ".py",
   "mimetype": "text/x-python",
   "name": "python",
   "nbconvert_exporter": "python",
   "pygments_lexer": "ipython3",
   "version": "3.8.3"
  }
 },
 "nbformat": 4,
 "nbformat_minor": 2
}

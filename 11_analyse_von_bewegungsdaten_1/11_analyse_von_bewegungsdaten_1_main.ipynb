{
 "cells": [
  {
   "cell_type": "markdown",
   "metadata": {
    "raw_mimetype": "text/markdown"
   },
   "source": [
    "# GTA HS20 - Übung 11: Analyse von Bewegungsdaten 1\n",
    "\n",
    "## Ziel der Übung\n",
    "\n",
    "Das Ziel dieser Übung ist es, Trajektorien aus GPS-Trackingdaten zu extrahieren und diese anschliessend zu analysieren. Diese Übung knüpft dabei direkt an die letzte Übung an und besteht aus den folgenden Teilen: \n",
    "\n",
    "- __Teil 1:__ Validierung der Ergebnisse aus Übung 2 (Extraktion von Aufenthaltspunkten).\n",
    "- __Teil 2:__ Implementierung eines Algorithmus zur Segmentierung von Trajektorien basierend auf den extrahierten Aufenthaltspunkten. \n",
    "- __Teil 3:__ Analyse der Trajektorien mittels Histogrammen, Merkmalberechnung und über ähnlichkeitsbasiertes Clustering (Fréchet Distanz)."
   ]
  },
  {
   "cell_type": "markdown",
   "metadata": {},
   "source": [
    "## Vorgehen\n",
    "\n",
    "### 1) Vorüberlegung: Was sind Hauptmerkmale von Mobilität?\n",
    "In der letzten Übung haben wir Stopp- bzw. Haltepunkte von Taxis identifiziert. Dazwischen sind Perioden, in denen die Taxis sich bewegen (gleiches gilt für unsere persönliche Mobilität).\n",
    "\n",
    "Überlegen sie sich durch welche Eigenschaften Haltepunkte und die dazwischenliegenden Bewegungen Charakterisiert sind.\n",
    "\n",
    "* Warum besuchen wir verschiedene Orte? \n",
    "* Wie gelangen wir dorthin? Was sind die Hauptmerkmale dieser Bewegungen?\n",
    "\n",
    "### 2) Übersicht über Funktionen und das Programm bekommen\n",
    "Hier eine kurze Übersicht über die Funktionen, die wir in dieser Übung erstellen oder ihnen zur Verfügung stellen:\n",
    "- `read_romataxidata()`: Die Daten werden aus der `.csv`-Datei in eine Liste `[X, Y, T]` (x-Koordinate, y-Koordinate, Zeitstempel) eingelesen.\n",
    "- `transform()`: Transformiert die Taxidaten in ein Meter-Koordinatensystem und die Zeitstempel in Sekunden.\n",
    "- `apply_dbscan()`: Wendet DBSCAN auf die Taxidaten an, um Haltepunkte zu extrahieren.\n",
    "- `get_ipyleaflet_trackpoint_layer()`: Erstellt einen `ipyleaflet` Layer aus GPS-Fixes, welcher auf eine interaktive Karte gezeichnet werden kann.\n",
    "- `df.plot()`: Plottet ein GeoDataFrame als Karte (ohne Basemap).\n",
    "- `df.hist()`: Plottet ein Histogramm eines DataFrames.\n",
    "\n",
    "Die Orte, an denen sie Code verändern müssen sind mit `TODO` gekennzeichnet."
   ]
  },
  {
   "cell_type": "markdown",
   "metadata": {},
   "source": [
    "Import und Definitionen:\n",
    "Die folgenden zwei Codeblöcke importieren die verwendeten Bibliotheken und initialisieren Elemente die für die interaktive Darstellung der Triplegs benötigt werden. Durch klicken auf `Toggle show/hide` kann dieser Teil ausgeblendet werden."
   ]
  },
  {
   "cell_type": "code",
   "execution_count": null,
   "metadata": {},
   "outputs": [],
   "source": [
    "import os\n",
    "import time\n",
    "\n",
    "import numpy as np\n",
    "import pandas as pd\n",
    "import geopandas as gpd\n",
    "import matplotlib.pyplot as plt\n",
    "from sklearn.cluster import KMeans\n",
    "\n",
    "from ipywidgets import HTML\n",
    "import ipyleaflet as ipy\n",
    "from ipyleaflet import WidgetControl\n",
    "\n",
    "from analyse_von_bewegungsdaten_functions import read_romataxidata, apply_dbscan, \\\n",
    "    transform, filter_by_label, get_tripleg_geometry_from_points, get_tripleg, \\\n",
    "    get_ipyleaflet_trackpoint_layer, hide_toggle\n",
    "from utils import calculate_distance_matrix\n",
    "\n",
    "hide_toggle()"
   ]
  },
  {
   "cell_type": "code",
   "execution_count": null,
   "metadata": {},
   "outputs": [],
   "source": [
    "crs_wgs84 = \"EPSG:4326\"\n",
    "\n",
    "# Tripleg plotting style.\n",
    "tripleg_style={'opacity': 0.8, 'width': 6, 'color': 'Blue'}\n",
    "tripleg_hoverstyle={'color': 'Red' , 'fillOpacity': 0.8}\n",
    "\n",
    "# This defines the box in which tripleg information is displayed (later).\n",
    "html = HTML(\"\")\n",
    "html.layout.margin = '0px 20px 20px 20px'\n",
    "tripleg_info_box = WidgetControl(widget=html, position='topright')\n",
    "\n",
    "def tripleg_hover_info(feature, **kwargs):\n",
    "    string_list = []\n",
    "    string_list.append(\"<table>\")\n",
    "    for var_name in feature['properties']:\n",
    "        value = feature['properties'][var_name]\n",
    "        string_list.append(\"<tr> <td>{}:</td>  <td>&emsp;</td> <td>{}</td> </tr>\\n\".format(var_name, value))\n",
    "   \n",
    "    string_list.append(\"</table>\")\n",
    "    html.value = \"\".join(string_list)\n",
    "\n",
    "hide_toggle()"
   ]
  },
  {
   "cell_type": "markdown",
   "metadata": {},
   "source": [
    "### 3) Validierung der Ergebnisse aus Übung 2\n",
    "\n",
    "#### 3.1) Berechnen der Ergebnisse der letzten Übung\n",
    "Zuerst berechnen wir die Ergebnisse aus Übung 2 erneut. Dafür haben wir die Funktionen, die Sie in Übung 2 bearbeitet haben, in der Datei ``analyse_von_bewegungsdaten_functions.py`` zusammengefasst. "
   ]
  },
  {
   "cell_type": "code",
   "execution_count": null,
   "metadata": {},
   "outputs": [],
   "source": [
    "# Path to input file.\n",
    "input_file = os.path.join('input_data', 'taxi_21.txt')\n",
    "\n",
    "# Read data (nrows can be used to subsample for speed).\n",
    "data_orginal = read_romataxidata(input_file, nrows=1700) \n",
    "\n",
    "# Apply transformations.\n",
    "data = transform(data_orginal, timescale=60)\n",
    "\n",
    "# Calculate clusters with dbscan.\n",
    "labels, core_samples_indices = apply_dbscan(data, eps=5, min_samples=10, metric='chebyshev')"
   ]
  },
  {
   "cell_type": "markdown",
   "metadata": {},
   "source": [
    "#### 3.2) Staypoints als Geopandas Dataframe\n",
    "Zunächst visualisieren wir die Daten der letzten Woche, um sie nochmals genauer anzusehen. Dazu fassen wir die Daten in einem [Geopandas Dataframe](https://github.com/geopandas/geopandas) zusammen. Ein Geodataframe ist eine Datenstruktur der Python Bibliothek `pandas` bzw. `geopandas`, die es uns ermöglicht, effizient mit Geodaten umzugehen und sie später zu visualisieren. Alle Daten, die wir visualisieren möchten, müssen also in dem Geodataframe stehen. Um die Ergebnisse gut analysieren zu können und um später mit den Daten weiterarbeiten zu können, brauchen wir vor allem die folgenden Informationen:\n",
    "- __Geometrie__\n",
    "- __Zeitstempel__\n",
    "- __Clusterlabel__ \n",
    "- __Kernpunktindikator__\n",
    "\n",
    "Dafür verbinden wir die Originaldaten (nicht die transformierten Daten, diese haben keine Zeitstempel mehr) mit den Ergebnissen des Cluteringalgorithmus."
   ]
  },
  {
   "cell_type": "code",
   "execution_count": null,
   "metadata": {},
   "outputs": [],
   "source": [
    "# Construct Geodataframe from original data.\n",
    "italy_gdf = gpd.GeoDataFrame(data=data_orginal, columns=['long', 'lat', 'timestamp'], \n",
    "    geometry=gpd.points_from_xy([row[0] for row in data_orginal], [row[1] for row in data_orginal]), crs=crs_wgs84)\n",
    "\n",
    "# Add clustering information.\n",
    "italy_gdf['is_core'] = False\n",
    "italy_gdf.loc[core_samples_indices, 'is_core'] = True\n",
    "italy_gdf['label'] = labels.astype('int')\n",
    "\n",
    "# Make sure the dataframe is sorted by tracking time and show first lines.\n",
    "italy_gdf.sort_values(by='timestamp', inplace=True)"
   ]
  },
  {
   "cell_type": "markdown",
   "metadata": {},
   "source": [
    "Die nächste Zeile können Sie verwenden, um sich die Daten im Geodataframe etwas genauer anzusehen. Vergewissern Sie sich mit der Funktion `type()`, dass es sich wirklich um ein Geodataframe handelt. Dann versuchen Sie mit der Methode `head()` einen Überblick über die Daten zu gewinnen."
   ]
  },
  {
   "cell_type": "code",
   "execution_count": null,
   "metadata": {},
   "outputs": [],
   "source": [
    "# TODO: Examine data."
   ]
  },
  {
   "cell_type": "markdown",
   "metadata": {},
   "source": [
    "Die Daten im Geopandasformat geben uns schon jetzt die Möglichkeit sie einfach und schnell über die `gdf.plot()` zu visualisieren."
   ]
  },
  {
   "cell_type": "code",
   "execution_count": null,
   "metadata": {},
   "outputs": [],
   "source": [
    "# TODO: Plot data using matplotlib (function directly available on GeoDataFrame)."
   ]
  },
  {
   "cell_type": "markdown",
   "metadata": {},
   "source": [
    "### 3.3) Interaktive Visualisierung von Staypoints\n",
    "Um die Ergbnisse gut zu verstehen, ist es hilfreich, sie interaktiv auf einer Karte darzustellen. Dafür verwenden wir die Bibliothek [ipyleaflet](https://github.com/jupyter-widgets/ipyleaflet), die es ermöglicht mit Python auf die Funktionen der Java library [leaflet](https://leafletjs.com/) zugzugreifen und so Geodaten interaktiv in Jupyter Notebooks darzustellen. Wenn Sie möchten, können Sie auch verschiedene [basemaps](https://ipyleaflet.readthedocs.io/en/latest/api_reference/basemaps.html) ausprobieren.\n",
    "\n",
    "Zuerst initialisieren wir die Karte:"
   ]
  },
  {
   "cell_type": "code",
   "execution_count": null,
   "metadata": {},
   "outputs": [],
   "source": [
    "m = ipy.Map(center=(41.888, 12.5215), zoom = 12, basemap=ipy.basemaps.OpenStreetMap.Mapnik)\n",
    "m"
   ]
  },
  {
   "cell_type": "markdown",
   "metadata": {},
   "source": [
    "Jetzt verwenden wir die fertige Funktion `get_ipyleaflet_trackpoint_layer` um ipyleaflet Layer zu erzeugen, die wir anzeigen können. Diese Funktion erzeugt viele [CircleMarker](https://ipyleaflet.readthedocs.io/en/latest/api_reference/circle_marker.html) Objekte und gibt ihnen verschiedene Farben in Abhängigkeit von ihrem Cluster. Die Funktion `get_ipyleaflet_trackpoint_layer` gibt zwei Layerobjekte zurück, die wir über die `add_layer` Funktion des ipyleaflet [`Map`](https://ipyleaflet.readthedocs.io/en/latest/api_reference/map.html) Objekts anzeigen lassen können. \n",
    "\n",
    "Über die Parameter der Funktion können wir einstellen wie viele Trackpoints wir anzeigen wollen, um die Geschwindigkeit zu verbessern. `slack` gibt dabei an, wie viele Punkte vor und nach dem min/max Label wir noch anzeigen wollen.\n",
    "Mit `ipy.LayersControl()`(https://ipyleaflet.readthedocs.io/en/latest/api_reference/layers_control.html) können wir schliesslich noch ein Widget anzeigen lassen, das es uns erlaubt die einzelnen Layer zu steuern."
   ]
  },
  {
   "cell_type": "code",
   "execution_count": null,
   "metadata": {},
   "outputs": [],
   "source": [
    "layer_noise, layer_sp = get_ipyleaflet_trackpoint_layer(italy_gdf.copy(), min_label=6, max_label=8, slack=10)\n",
    "m.add_layer(layer_noise)\n",
    "m.add_layer(layer_sp)\n",
    "m.add_control(ipy.LayersControl())"
   ]
  },
  {
   "cell_type": "markdown",
   "metadata": {},
   "source": [
    "Sehen Sie sich die Interaktive Karte an: Sehen die Ergebnisse sinvoll aus? Die einzelnen Trackpunkte sind in Grau eingezeichnet, Staypoints (Punkte die zu einem Cluster gehören) sind etwas grösser in Farbe eingezeichnet.\n",
    "Wenn die Karte nichts anzeigt, dann muss der Code eventuell nochmal ausgeführt werden. "
   ]
  },
  {
   "cell_type": "markdown",
   "metadata": {},
   "source": [
    "### 4) Segmentierung von Triplegs\n",
    "\n",
    "Nachdem wir die Staypoints aus den Trackpoints herausgerechnet haben, interessieren wir uns für die Bewegungstrajektorien. Eine einfache Möglichkeit, um Trajektorien zu definieren ist, alle nicht-Staypoint Trackpunkte zwischen zwei Staypoints einer Bewegungstrajektorie zuzuordnen. \n",
    "\n",
    "Die dahinterstehende Annahme ist einfach: Wenn wir nicht stehen, dann bewegen wir uns. \n",
    "\n",
    "Dieses Beispiel können wir uns nochmals auf der Karte ansehen. Dort ist zu erkennen, dass wir eine Bewegungstrajektorie definieren können, indem wir alle grauen Punkte zwischen zwei Haltepunkten zu einer Trajektorie zusammenfassen. "
   ]
  },
  {
   "cell_type": "code",
   "execution_count": null,
   "metadata": {},
   "outputs": [],
   "source": [
    "m_trackpoints = ipy.Map(center=(41.888, 12.5215), zoom = 12)\n",
    "layer_noise_67, layer_sp_67 = get_ipyleaflet_trackpoint_layer(italy_gdf.loc[812:950].copy(), filter_gdf=False)\n",
    "m_trackpoints.add_layer(layer_noise_67)\n",
    "m_trackpoints.add_layer(layer_sp_67)\n",
    "m_trackpoints"
   ]
  },
  {
   "cell_type": "markdown",
   "metadata": {},
   "source": [
    "Die Idee des Algorithmus wird deutlich, wenn wir uns einen Ausschnitt der Daten ansehen. Wenn Sie von oben nach unten, Zeile für Zeile durchgehen. Dann beginnt unsere Bewegungstrajektorie sobald wir von `label=6` auf `label=-1` wechseln. Sobald wir von `label=-1` auf `label=7` wechseln, endet die Bewegungstrajektorie und der nächste Aufenthaltspunkt beginnt. Alle Punkte dazwischen gehören zu einer Bewegungstrajektorie. Wenn die Spalte `label` von `7` auf `-1` wechselt, dann beginnt die nächste Bewegungstrajektorie."
   ]
  },
  {
   "cell_type": "code",
   "execution_count": null,
   "metadata": {
    "scrolled": true
   },
   "outputs": [],
   "source": [
    "pd.set_option('display.max_rows', 1000)\n",
    "italy_gdf.loc[812:950,['timestamp', 'label', 'geometry']]"
   ]
  },
  {
   "cell_type": "markdown",
   "metadata": {},
   "source": [
    "#### 4.1) Implementierung des Algorithmus\n",
    "Um den Segmentierungsalgorithmus zu implementieren erstellen wir eine Liste. Hier eine Übersicht über die wichtigsten Operationen:\n",
    "- ```trackpoint_list[0]``` gibt Ihnen die erste Zeile der Liste an Trackpoints zurück.\n",
    "- Eine Zeile der Trackpoints hat 3 Spalten (genau wie oben dargestellt), die auch wieder in einer Liste zusammengefasst sind. Die Operation ```trackpoint_list[0][1]``` gibt Ihnen zum Beispiel das zweite Element der ersten Zeile zurück (in dem Fall das Label).\n",
    "- Für die Umsetzung benötigen Sie zwei Schleifen. Die erste geht die Liste entlang bis `label == -1`. Dann startet die zweite Schleife bis `label !== -1`.\n",
    "- Alle Punkte, die in der zweiten Schleife überschritten werden, sollen in der Liste `tripleg_point_list` gespeichert werden. \n",
    "- Die Funktion `get_tripleg_geometry_from_points` transformiert eine Liste mit Punkten in eine Liniengeometrie (z.B. `tripleg_point_list`). \n",
    "- Am Ende der zweiten Schleife sollen alle Tripleginformationen als Tuple (oder Liste) mit `append` an die Liste `tripleg_list` angehängt werden.\n",
    "- Vergessen Sie nicht, die Laufparameter an den richtigen Stellen zu inkrementieren, damit Sie nicht in einer unendlichen while-Schleife feststecken. \n",
    "- Vergessen Sie nicht, am Ende der zweiten Schleife, den Laufparameter der ersten Schleifen so zu erhöhen, dass er am Ende des Triplegs steht. \n",
    "- Nutzen Sie `while` Schleifen um den Laufparameter (z.B. `i` oder `j`) in der Schleife zu verändern.\n",
    "\n",
    "\n",
    "##### Datenmodell Triplegs\n",
    "Für jedes Tripleg sollen die folgenden Informationen gespeichert werden:\n",
    "- `previous label`: Das Label des vorherigen Staypoints.\n",
    "- `next label`: Das Label des nächsten Staypoints.\n",
    "- `start time`: Der Zeitstempel des ersten Trackpoints, der dem Tripleg zugerechnet wird.\n",
    "- `end time`: Der Zeitstempel des letzten Trackpoints, der dem Tripleg zugerechnet wird.\n",
    "- `geometry`: Shapely linestring geometry.\n",
    "\n",
    "Die Daten müssen in genau dieser Reihenfolge in einem Container (z.B. Tuple oder Liste) an die Liste `tripleg_list` angehängt werden."
   ]
  },
  {
   "cell_type": "code",
   "execution_count": null,
   "metadata": {},
   "outputs": [],
   "source": [
    "trackpoint_list = italy_gdf[['timestamp', 'label', 'geometry']].values.tolist()"
   ]
  },
  {
   "cell_type": "code",
   "execution_count": null,
   "metadata": {},
   "outputs": [],
   "source": [
    "# Initialize.\n",
    "n = len(trackpoint_list)\n",
    "tripleg_list = []\n",
    "i = 0\n",
    "\n",
    "# Iterate over all trackpoints.\n",
    "while (i < (n-1)):\n",
    "    \n",
    "    # TODO: Write your implementation here.\n",
    "    \n",
    "    # Example code.\n",
    "    current_row = trackpoint_list\n",
    "    print(current_row)\n",
    "    i +=1  # Don't forget to increment counter! "
   ]
  },
  {
   "cell_type": "code",
   "execution_count": null,
   "metadata": {},
   "outputs": [],
   "source": [
    "# You can write test code here."
   ]
  },
  {
   "cell_type": "markdown",
   "metadata": {},
   "source": [
    "##### Testen der Ergebnisse\n",
    "Um die Ergebnisse zu testen (und später zu visualisieren), definieren wir die Daten als Geopandas Geodataframe.\n",
    "Dafür sind folgende Sachen wichtig:\n",
    "- `tripleg_list` sollte nicht leer sein\n",
    "- Die Umwandlung in ein Geodataframe (Code in nächster Zelle) funktioniert.\n",
    "- Sehen Sie sich die von Ihnen erzeugten Triplegs an. Die Spalten `prevlabel` und `nextlabel` sollten jeweils inkrementel steigen."
   ]
  },
  {
   "cell_type": "code",
   "execution_count": null,
   "metadata": {},
   "outputs": [],
   "source": [
    "# Transform data into a geodataframe. 'tripleg_list' has to be a list of tuples e.g.,\n",
    "# (cluster_start, cluster_end, start_time, end_time, geometry) or a list of lists with the same order of items.\n",
    "tripleg_gdf = pd.DataFrame(tripleg_list, columns=['prevlabel', 'nextlabel', 'start_time', 'end_time', 'geometry'])\n",
    "tripleg_gdf = gpd.GeoDataFrame(tripleg_gdf, geometry=tripleg_gdf.geometry, crs=crs_wgs84)\n",
    "\n",
    "# Transform timestamps to strings for plotting.\n",
    "tripleg_gdf['start_time'] = tripleg_gdf['start_time'].dt.strftime(\"%Y-%m-%d %H:%M:%S\")\n",
    "tripleg_gdf['end_time'] = tripleg_gdf['end_time'].dt.strftime(\"%Y-%m-%d %H:%M:%S\")\n",
    "\n",
    "tripleg_gdf"
   ]
  },
  {
   "cell_type": "markdown",
   "metadata": {},
   "source": [
    "#### 4.2) Visualisierung der Ergebnisse:\n",
    "Für die Visualisierung initialisieren wir eine neue Karte (`m_triplegs`) und zeichnen die Trackpoints ein."
   ]
  },
  {
   "cell_type": "code",
   "execution_count": null,
   "metadata": {},
   "outputs": [],
   "source": [
    "m_triplegs = ipy.Map(center=(41.8881987655463, 12.5215863435528), zoom=12, basemap=ipy.basemaps.Esri.WorldTopoMap)\n",
    "min_label = 6\n",
    "max_label = 8\n",
    "m_triplegs.add_control(ipy.LayersControl())\n",
    "m_triplegs.add_control(tripleg_info_box)\n",
    "m_triplegs.add_layer(layer_noise)\n",
    "m_triplegs.add_layer(layer_sp)\n",
    "m_triplegs"
   ]
  },
  {
   "cell_type": "markdown",
   "metadata": {},
   "source": [
    "In diese Karte (`m_triplegs`) werden nun die Triplegs eingezeichnet: Sind die Ergebnisse sinnvoll? Fahren Sie mit dem Mauszeiger auf ein Tripleg, um die darin gespeicherten Informationen zu sehen."
   ]
  },
  {
   "cell_type": "code",
   "execution_count": null,
   "metadata": {},
   "outputs": [],
   "source": [
    "# Add a single tripleg.\n",
    "# geo_data = ipy.GeoData(geo_dataframe=tripleg_gdf[tripleg_gdf['prevlabel']==19], \n",
    "#                        name='triplegs', style=tripleg_style, hover_style=tripleg_hoverstyle)\n",
    "\n",
    "# Add a range of triplegs (recommended).\n",
    "tripleg_gdf_filtered = filter_by_label(tripleg_gdf, min_label, max_label, label_col_name='prevlabel')\n",
    "geo_data = ipy.GeoData(geo_dataframe=tripleg_gdf_filtered, name='triplegs', style=tripleg_style, \n",
    "                       hover_style=tripleg_hoverstyle)\n",
    "\n",
    "# Add all triplegs.\n",
    "# geo_data = ipy.GeoData(geo_dataframe=tripleg_gdf, name='triplegs', \n",
    "#                        style=tripleg_style, hover_style=tripleg_hoverstyle)\n",
    "\n",
    "geo_data.on_hover(tripleg_hover_info)\n",
    "m_triplegs.add_layer(geo_data)"
   ]
  },
  {
   "cell_type": "markdown",
   "metadata": {},
   "source": [
    "Es ist ausserdem hilfreich für das bessere Verständnis, sich die Daten auch als Text anzusehen: "
   ]
  },
  {
   "cell_type": "code",
   "execution_count": null,
   "metadata": {},
   "outputs": [],
   "source": [
    "tripleg_gdf"
   ]
  },
  {
   "cell_type": "markdown",
   "metadata": {},
   "source": [
    "### 5) Analyse der Triplegs\n",
    "Sobald wir Triplegs definiert haben, können wir sie weiter analysieren."
   ]
  },
  {
   "cell_type": "markdown",
   "metadata": {},
   "source": [
    "#### 5.1) Analyse der Eigenschaften (Geschwindigkeit, Länge, Dauer)\n",
    "Für eine Analyse ist es interessant, sich die Verteilung der Geschwindigkeit, der Länge und der Dauer von Triplegs genauer anzusehen. Dafür müssen wir die Daten wieder in ein projeziertes Koordinatensystem überführen.\n",
    "\n",
    "Hier ein Hinweis zum Vorgehen: \n",
    "- [`iloc`](https://pandas.pydata.org/pandas-docs/stable/reference/api/pandas.DataFrame.iloc.html) erlaubt es Ihnen auf einzelne elemente in einem Dataframe aufgrund ihrer Position zuzugreifen. `gdf.iloc[0,0]` gibt zum Beispiel das erste Element der ersten Spalte zurück."
   ]
  },
  {
   "cell_type": "markdown",
   "metadata": {},
   "source": [
    "Projezieren Sie die Daten nach [EPSG:25833](https://epsg.io/25833). Mit Geopandas kann diese Aufgabe mit nur einer Zeile Code gelöst werden. [Beispiele](https://geopandas.org/projections.html)"
   ]
  },
  {
   "cell_type": "code",
   "execution_count": null,
   "metadata": {},
   "outputs": [],
   "source": [
    "# TODO: Transform tripleg_gdf DataFrame."
   ]
  },
  {
   "cell_type": "markdown",
   "metadata": {},
   "source": [
    "##### Länge\n",
    "Berechnen Sie nun zuerst die Länge der Triplegs. Beachten Sie, dass die Geometrien als [Shapely](https://shapely.readthedocs.io/en/latest/manual.html#linestrings) Objekte gespeichert sind. Dies erlaubt es Ihnen zum Beispiel, die Länge des ersten Objekts in einem Geodataframe folgendermassen zu erhalten: `gdf.iloc[0].geometry.length`.\n",
    "\n",
    "Speichern Sie die Längen aller Triplegs in einer neuen Spalte in dem Geodataframe, in einem Numpyarray oder einer Liste. Verwenden Sie die Funktion `plt.hist` von [Matplotlib](https://matplotlib.org/3.1.1/api/_as_gen/matplotlib.pyplot.hist.html), um ein Histogram zu plotten.\n",
    "\n",
    "Beachten Sie, dass die Einheit der Koordinaten in Meter ist. Für die Interpretation ist es einfacher, wenn Sie die Längenverteilung in Kilometern angeben."
   ]
  },
  {
   "cell_type": "code",
   "execution_count": null,
   "metadata": {},
   "outputs": [],
   "source": [
    "# TODO: Calculate length."
   ]
  },
  {
   "cell_type": "code",
   "execution_count": null,
   "metadata": {},
   "outputs": [],
   "source": [
    "# TODO: Plot histogram."
   ]
  },
  {
   "cell_type": "markdown",
   "metadata": {},
   "source": [
    "##### Dauer\n",
    "Berechnen Sie als nächstes die Dauer für die einzelnen Triplegs. Beachten Sie, dass die Daten im Augenblick noch als `string` im Geodataframe gespeichert sind.\n",
    "- Verwenden Sie die zum Beispiel die pandas Funktion [`to_datetime`](https://pandas.pydata.org/pandas-docs/stable/reference/api/pandas.to_datetime.html), um den Zeitstempel wieder in ein maschinenlesbares Format (=Python Datetime) umzuwandeln.\n",
    "- Python Datetime Zeitstempel können Sie einfach voneinander abziehen, um die Dauer zu erhalten. Sie erhalten dann ein [`timedelta`](https://docs.python.org/2/library/datetime.html#timedelta-objects) Objekt.\n",
    "- Plotten Sie die Dauerverteilung in Minuten als Histogramm."
   ]
  },
  {
   "cell_type": "code",
   "execution_count": null,
   "metadata": {},
   "outputs": [],
   "source": [
    "# TODO: Calculate duration."
   ]
  },
  {
   "cell_type": "code",
   "execution_count": null,
   "metadata": {},
   "outputs": [],
   "source": [
    "# TODO: Plot histogram."
   ]
  },
  {
   "cell_type": "markdown",
   "metadata": {},
   "source": [
    "##### Geschwindigkeit\n",
    "Berechnen Sie jetzt die Geschwindigkeit in km/h. Beachten Sie, dass es Triplegs mit einer Dauer nahe 0 geben kann. Das heisst Sie müssen diese gegebenenfalls vor der Division filtern."
   ]
  },
  {
   "cell_type": "code",
   "execution_count": null,
   "metadata": {},
   "outputs": [],
   "source": [
    "# TODO: Calculate speed."
   ]
  },
  {
   "cell_type": "code",
   "execution_count": null,
   "metadata": {},
   "outputs": [],
   "source": [
    "# TODO: Plot histogram."
   ]
  },
  {
   "cell_type": "markdown",
   "metadata": {},
   "source": [
    "Sind die Ergebnisse sinnvoll? Diese Diagramme helfen Ihnen zum Einen herauszufinden, ob es vielleicht einen Fehler in dem Algorithmus gibt, aber auch um herauszufinden, ob die Daten so in Ordnung sind. \n",
    "\n",
    "__Bonusaufgabe:__ Analysieren Sie das Tripleg mit `prevlabel=19` und `prevlabel=20`. Was fällt Ihnen auf und warum ist dieses Tripleg so seltsam? Tipp: Sie müssen dafür die Trackpoints in dem folgenden Indexbereich laden: `2520-3000`"
   ]
  },
  {
   "cell_type": "markdown",
   "metadata": {},
   "source": [
    "#### 5.2) Clustering über Distanzmetrik (Fréchet)\n",
    "Ein wichtiges Problem in der Bewegungsdatenanalyse ist es, (geometrisch) ähnliche Trajektorien zu identifizieren. Dieses Problem ist kompliziert, da Trajektorien hochdimensional und unstrukturiert sind. Es ist zum Beispiel möglich, dass Sie die Geometrie zweier Trajektorien vergleichen möchten, die unterschiedliche Samplingfrequenzen und dadurch bedingt eine unterschiedliche Anzahl an Stützpunkten haben.\n",
    "\n",
    "Eine Lösung für dieses Problem wird durch Distanzmetriken gegeben. Diese definieren ein Mass für die geometrische Ähnlichkeit zweier Trajektorien und repräsentieren diese über einen einzelnen Distanzwert.\n",
    "Nutzen Sie die Funktion `calculate_distance_matrix` und übergeben Sie ihr ein Geodataframe mit Trajektorien, um eine Distanzmatrix zu erhalten.\n",
    "\n",
    "__Achtung!__ Die Funktion `calculate_distance_matrix` berechnet die paarweisen Distanzen zwischen allen Triplegs. Damit beträgt die Anzahl der Berechnungen $\\frac{(n-1)^2}{2}$ und steigt quadratisch mit der Anzahl der Berechnungen. Gleichzeitig ist die Berechnung der Fréchetdistanz sehr rechenaufwändig. Fangen Sie deshalb mit der Berechnung von wenigen Trajektorien (zum Beispiel 5) an und erhöhen Sie die Anzahl der Trajektorien später."
   ]
  },
  {
   "cell_type": "code",
   "execution_count": null,
   "metadata": {},
   "outputs": [],
   "source": [
    "# TODO: Calculate Fréchet distance of several triplegs."
   ]
  },
  {
   "cell_type": "markdown",
   "metadata": {},
   "source": [
    "##### Visualisieren der Distanzmatrix\n",
    "Verwenden Sie die Funktion [`imshow`](https://matplotlib.org/3.2.1/api/_as_gen/matplotlib.pyplot.imshow.html) von Matplotlib, um die Distanzmatrix zu visualisieren. Lassen Sie sich ausserdem eine `colorbar` anzeigen und wählen Sie eine geeignete Colormap. Zum Beispiel `jet`"
   ]
  },
  {
   "cell_type": "code",
   "execution_count": null,
   "metadata": {},
   "outputs": [],
   "source": [
    "# TODO: Visualize distance matrix using plt.imshow(...)."
   ]
  },
  {
   "cell_type": "markdown",
   "metadata": {},
   "source": [
    "Können Sie Cluster in der Distanzmatrix erkennen?"
   ]
  },
  {
   "cell_type": "markdown",
   "metadata": {},
   "source": [
    "##### Clustering\n",
    "Es ist sehr schwierig Cluster zuverlässig aus der Distanzmatrix herauszulesen. Es ist allerdings möglich, die Distanzmatrix direkt aus Eingagsdaten für einen Clusteringalgorithmus zu verwenden.\n",
    "- Verwenden Sie [`KMeans`](https://scikit-learn.org/stable/modules/generated/sklearn.cluster.KMeans.html) aus der Scikit-learn Bibliothek, um die Trajektorien basierend auf der Distanzmatrix zu clustern.\n",
    "- Definieren Sie die Label als eine neue Spalte in dem Geodataframe. Sie können über die Eigenschaft `labels_` auf die Informationen zugreifen.\n",
    "- Stellen Sie das Ergebnis mithilfe der [`plot`](https://geopandas.org/mapping.html#choosing-colors) Funktion des Geodataframes dar. Über das Schlüsselwort `column` können Sie festlegen, über welche Spalte die einzelnen Trajektorien eingefärbt werden sollen.\n",
    "- Stellen Sie sicher, dass die Grafik ausreichend gross ist. Dafür können Sie der `plot` Funktion das Schlüsselwort `figsize=(12,12)` übergeben.\n",
    "- Die Wahl der Anzahl an Cluster bei KMeans ist ein komplizierts Problem. Probieren Sie verschiedene Werte aus und beobachten Sie, wie sich das Ergebnis dabei verändert."
   ]
  },
  {
   "cell_type": "code",
   "execution_count": null,
   "metadata": {},
   "outputs": [],
   "source": [
    "# TODO: Cluster trajectories using KMeans."
   ]
  },
  {
   "cell_type": "code",
   "execution_count": null,
   "metadata": {},
   "outputs": [],
   "source": [
    "# TODO: Plot DataFrame using column tripleg_cluster to color triplegs according to their cluster."
   ]
  }
 ],
 "metadata": {
  "celltoolbar": "Raw Cell Format",
  "kernelspec": {
   "display_name": "Python 3",
   "language": "python",
   "name": "python3"
  },
  "language_info": {
   "codemirror_mode": {
    "name": "ipython",
    "version": 3
   },
   "file_extension": ".py",
   "mimetype": "text/x-python",
   "name": "python",
   "nbconvert_exporter": "python",
   "pygments_lexer": "ipython3",
   "version": "3.8.3"
  }
 },
 "nbformat": 4,
 "nbformat_minor": 4
}
